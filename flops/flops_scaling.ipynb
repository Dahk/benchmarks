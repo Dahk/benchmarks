{
 "cells": [
  {
   "cell_type": "markdown",
   "metadata": {
    "run_control": {
     "frozen": false,
     "read_only": false
    }
   },
   "source": [
    "# How does compute scale? \n",
    "\n",
    "This uses pywren and the code from `flops_benchmark.ipynb` to test scaling of IBM Cloud Functions. See that notebook for more details. \n"
   ]
  },
  {
   "cell_type": "code",
   "execution_count": null,
   "metadata": {
    "ExecuteTime": {
     "end_time": "2017-02-28T07:35:36.136438",
     "start_time": "2017-02-28T07:35:34.283296"
    },
    "run_control": {
     "frozen": false,
     "read_only": false
    },
    "scrolled": true
   },
   "outputs": [],
   "source": [
    "%pylab inline\n",
    "import numpy as np\n",
    "import time\n",
    "import flops_benchmark\n",
    "import pandas as pd\n",
    "from six.moves import cPickle as pickle\n",
    "import seaborn as sns\n",
    "sns.set_style('whitegrid')\n",
    "import glob"
   ]
  },
  {
   "cell_type": "markdown",
   "metadata": {
    "run_control": {
     "frozen": false,
     "read_only": false
    }
   },
   "source": [
    "We use the [ruffus pipeline manager](http://www.ruffus.org.uk/) to run a large number of jobs at varying scales. Each one generates a separate pickle file, which we will later load in. Note that running this many jobs with varying initial conditions can take a long time. "
   ]
  },
  {
   "cell_type": "code",
   "execution_count": null,
   "metadata": {
    "ExecuteTime": {
     "end_time": "2017-02-28T07:35:36.967928",
     "start_time": "2017-02-28T07:35:36.139705"
    },
    "run_control": {
     "frozen": false,
     "read_only": false
    }
   },
   "outputs": [],
   "source": [
    "!python3 run_many_experiments.py"
   ]
  },
  {
   "cell_type": "code",
   "execution_count": null,
   "metadata": {
    "ExecuteTime": {
     "end_time": "2017-02-28T07:41:38.606510",
     "start_time": "2017-02-28T07:41:33.481850"
    },
    "run_control": {
     "frozen": false,
     "read_only": false
    }
   },
   "outputs": [],
   "source": [
    "all_df = []\n",
    "for filename in glob.glob(\"microbench.*.*.*.*.pickle\"):\n",
    "    exp_results = pickle.load(open(filename, 'rb'))\n",
    "    results_df = flops_benchmark.results_to_dataframe(exp_results)\n",
    "    results_df['filename'] = filename\n",
    "    all_df.append(results_df)\n",
    "all_df = pd.concat(all_df)"
   ]
  },
  {
   "cell_type": "code",
   "execution_count": null,
   "metadata": {
    "ExecuteTime": {
     "end_time": "2017-02-28T07:41:49.227196",
     "start_time": "2017-02-28T07:41:38.608449"
    },
    "run_control": {
     "frozen": false,
     "read_only": false
    }
   },
   "outputs": [],
   "source": [
    "max_time = 1000\n",
    "runtime_bins = np.linspace(0, max_time, max_time, endpoint=False)\n",
    "    \n",
    "filename_hists = {}\n",
    "for fname, df in all_df.groupby('filename'):\n",
    "    \n",
    "    time_offset = np.min(df.host_submit_time)\n",
    "    \n",
    "    runtime_flops_hist = np.zeros((len(df), len(runtime_bins)))\n",
    "    for i in range(len(df)):\n",
    "        row = df.iloc[i]\n",
    "        s = (row.start_time + row.setup_time) - time_offset\n",
    "        e = row.end_time - time_offset\n",
    "        a, b = np.searchsorted(runtime_bins, [s, e])\n",
    "        if b-a > 0:\n",
    "            runtime_flops_hist[i, a:b] = row.est_flops / float(b-a)\n",
    "    filename_hists[fname] = runtime_flops_hist\n",
    "    "
   ]
  },
  {
   "cell_type": "code",
   "execution_count": null,
   "metadata": {
    "ExecuteTime": {
     "end_time": "2017-02-28T08:05:01.882120",
     "start_time": "2017-02-28T08:05:01.694398"
    },
    "run_control": {
     "frozen": false,
     "read_only": false
    }
   },
   "outputs": [],
   "source": [
    "\n",
    "peak_stats = []\n",
    "for wi, (worker_count, d) in enumerate(all_df.groupby('workers')):\n",
    "    for fname, df in d.groupby('filename'):\n",
    "        agg_hist = filename_hists[fname].sum(axis=0)/1e12\n",
    "        total_time = np.max(df.download_output_timestamp)- np.min(df.host_submit_time)\n",
    "        total_tflops = np.sum(df.est_flops)/1e12\n",
    "        ps = {'worker_count' : worker_count, 'filename' : fname, \n",
    "              'peak_TFLOPS' : np.max(agg_hist), 'effective_TFLOPS': total_tflops/total_time}\n",
    "        peak_stats.append(ps)\n",
    "peak_df = pd.DataFrame(peak_stats)\n"
   ]
  },
  {
   "cell_type": "code",
   "execution_count": null,
   "metadata": {
    "ExecuteTime": {
     "end_time": "2017-02-28T08:10:27.605746",
     "start_time": "2017-02-28T08:10:27.163086"
    },
    "run_control": {
     "frozen": false,
     "read_only": false
    }
   },
   "outputs": [],
   "source": [
    "s = peak_df.groupby(['worker_count']).agg({'peak_TFLOPS' : ['mean', 'std', 'min', 'max'], \n",
    "                                           'effective_TFLOPS' : ['mean', 'std', 'min', 'max']}, \n",
    "                                         )\n",
    "fig = pylab.figure(figsize=(10, 6))\n",
    "ax = fig.add_subplot(1, 1, 1)\n",
    "\n",
    "ax.scatter(s.index.values, s.peak_TFLOPS['mean'] ,c='b', label='peak')\n",
    "ax.errorbar(np.array(s.index.values), np.array(s.peak_TFLOPS['mean']), \n",
    "            yerr=np.array(s.peak_TFLOPS['std']), ecolor='b', c='b', label=None)\n",
    "ax.scatter(s.index.values, s.effective_TFLOPS['mean'] ,c='g', label='effective')\n",
    "ax.errorbar(np.array(s.index.values), np.array(s.effective_TFLOPS['mean']),  c='g',\n",
    "            yerr=np.array(s.effective_TFLOPS['std']), ecolor='g', label=None)\n",
    "ax.grid(False)\n",
    "ax.set_xlim(0, 1100)\n",
    "ax.set_ylim(0, 0.2)\n",
    "ax.set_xlabel('workers')\n",
    "ax.set_ylabel('aggregate TFLOPS')\n",
    "s.peak_TFLOPS['mean']\n",
    "\n",
    "ax.spines['top'].set_visible(False)\n",
    "ax.spines['right'].set_visible(False)\n",
    "ax.legend(loc='upper left')\n",
    "fig.tight_layout()\n",
    "fig.savefig(\"flops_scaling.flops.png\")\n"
   ]
  },
  {
   "cell_type": "markdown",
   "metadata": {
    "ExecuteTime": {
     "end_time": "2017-02-28T07:42:23.582298",
     "start_time": "2017-02-28T07:42:23.570111"
    },
    "run_control": {
     "frozen": false,
     "read_only": false
    }
   },
   "source": [
    "We'll make a small version of the plot for use elsewhere. "
   ]
  },
  {
   "cell_type": "code",
   "execution_count": null,
   "metadata": {
    "ExecuteTime": {
     "end_time": "2017-02-28T08:10:46.404075",
     "start_time": "2017-02-28T08:10:46.137042"
    },
    "run_control": {
     "frozen": false,
     "read_only": false
    }
   },
   "outputs": [],
   "source": [
    "fig = pylab.figure(figsize=(10, 6))\n",
    "ax = fig.add_subplot(1, 1, 1)\n",
    "\n",
    "ax.scatter(s.index.values, s.peak_TFLOPS['mean'] ,c='b', label='peak')\n",
    "ax.errorbar(np.array(s.index.values), np.array(s.peak_TFLOPS['mean']), \n",
    "            yerr=np.array(s.peak_TFLOPS['std']), ecolor='b', c='b', label=None)\n",
    "ax.scatter(s.index.values, s.effective_TFLOPS['mean'] ,c='g', label='effective')\n",
    "ax.errorbar(np.array(s.index.values), np.array(s.effective_TFLOPS['mean']),  c='g',\n",
    "            yerr=np.array(s.effective_TFLOPS['std']), ecolor='g', label=None)\n",
    "ax.grid(False)\n",
    "#ax.set_xlim(0, 2900)\n",
    "#ax.set_ylim(0, 50)\n",
    "ax.set_xlabel('workers')\n",
    "ax.set_ylabel('aggregate TFLOPS')\n",
    "#s.peak_TFLOPS['mean']\n",
    "\n",
    "ax.spines['top'].set_visible(False)\n",
    "ax.spines['right'].set_visible(False)\n",
    "ax.set_xticks([0, 2800])\n",
    "ax.set_yticks([0, 40])\n",
    "ax.set_xlim(0, 1100)\n",
    "ax.set_ylim(0, 1)\n",
    "ax.legend(loc='upper left')\n",
    "\n",
    "fig.tight_layout()\n",
    "#fig.savefig(\"flops_scaling.flops.small.png\")"
   ]
  },
  {
   "cell_type": "code",
   "execution_count": null,
   "metadata": {},
   "outputs": [],
   "source": []
  }
 ],
 "metadata": {
  "anaconda-cloud": {},
  "kernelspec": {
   "display_name": "Python 3",
   "language": "python",
   "name": "python3"
  },
  "language_info": {
   "codemirror_mode": {
    "name": "ipython",
    "version": 3
   },
   "file_extension": ".py",
   "mimetype": "text/x-python",
   "name": "python",
   "nbconvert_exporter": "python",
   "pygments_lexer": "ipython3",
   "version": "3.6.9"
  },
  "toc": {
   "nav_menu": {
    "height": "66px",
    "width": "252px"
   },
   "navigate_menu": true,
   "number_sections": true,
   "sideBar": true,
   "threshold": 4,
   "toc_cell": false,
   "toc_section_display": "block",
   "toc_window_display": false
  }
 },
 "nbformat": 4,
 "nbformat_minor": 1
}
